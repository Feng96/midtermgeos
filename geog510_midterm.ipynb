{
  "cells": [
    {
      "cell_type": "markdown",
      "metadata": {
        "id": "view-in-github",
        "colab_type": "text"
      },
      "source": [
        "<a href=\"https://colab.research.google.com/github/Feng96/midtermgeos/blob/master/geog510_midterm.ipynb\" target=\"_parent\"><img src=\"https://colab.research.google.com/assets/colab-badge.svg\" alt=\"Open In Colab\"/></a>"
      ]
    },
    {
      "cell_type": "markdown",
      "id": "ccc39dc4-617c-4e04-90b6-7560272136e4",
      "metadata": {
        "id": "ccc39dc4-617c-4e04-90b6-7560272136e4"
      },
      "source": [
        "# GEOG 422/510 Midterm Exam\n",
        "\n",
        "[![image](https://colab.research.google.com/assets/colab-badge.svg)](https://gishub.org/510-midterm)\n",
        "\n",
        "**Firstname Lastname**\n",
        "\n",
        "150 points in total (30 points each question). You have 75 minutes to complete the exam.\n",
        "\n",
        "\n",
        "**Submission instructions**\n",
        "\n",
        "Your submission should contain four hyperlinks as follows:\n",
        "\n",
        "- GitHub: https://github.com/giswqs/geosdemo\n",
        "- PyPI: https://pypi.org/project/geosdemo\n",
        "- Docs: https://giswqs.github.io/geosdemo \n",
        "- Notebook: https://github.com/giswqs/geosdemo/blob/master/docs/labs/midterm.ipynb\n",
        "\n",
        "Before submission, restart kernel and run all cells."
      ]
    },
    {
      "cell_type": "code",
      "execution_count": 11,
      "id": "03c56513-daab-414e-9947-e88cf56afb24",
      "metadata": {
        "id": "03c56513-daab-414e-9947-e88cf56afb24",
        "colab": {
          "base_uri": "https://localhost:8080/"
        },
        "outputId": "a6632d08-2cec-496e-db1f-2af7c8c9c79a"
      },
      "outputs": [
        {
          "output_type": "stream",
          "name": "stdout",
          "text": [
            "Submitted time: 2023-03-23 15:05:23.883357\n"
          ]
        }
      ],
      "source": [
        "from datetime import datetime\n",
        "\n",
        "now = datetime.now()\n",
        "print(f\"Submitted time: {now}\")"
      ]
    },
    {
      "cell_type": "markdown",
      "id": "949a0196",
      "metadata": {
        "id": "949a0196"
      },
      "source": [
        "## Question 1\n",
        "\n",
        "Create a new Python package and publish it on GitHub and PyPI. Do NOT use any packages that you created for previous assignments. The package must have GitHub Actions enabled, which allows you to automatically upload new releases from GitHub to PyPI. The package must also have the documentation website up and running. Complete the four questions below on this notebook and add the notebook to your GitHub repo for this new package. Add an `Open In Colab` badge to the notebook. Upon completion, you should have four hyperlinks to your GitHub repo, PyPI, documentation website, and the notebook. \n",
        "\n",
        "- GitHub: https://github.com/giswqs/geosdemo\n",
        "- PyPI: https://pypi.org/project/geosdemo\n",
        "- Docs: https://giswqs.github.io/geosdemo \n",
        "- Notebook: https://github.com/giswqs/geosdemo/blob/master/docs/labs/midterm.ipynb"
      ]
    },
    {
      "cell_type": "markdown",
      "id": "90210396-a683-4891-9dee-328f1bd98f00",
      "metadata": {
        "id": "90210396-a683-4891-9dee-328f1bd98f00"
      },
      "source": [
        "Your answers:\n",
        "- GitHub: https://github.com/Feng96/midtermgeos\n",
        "- PyPI: https://pypi.org/project/midtermgeos/0.0.1/\n",
        "- Docs: https://Feng96.github.io/geogmidterm\n",
        "- Notebook:https://github.com/Feng96/midtermgeos/blob/master/geog510_midterm.ipynb"
      ]
    },
    {
      "cell_type": "markdown",
      "id": "d5c26851-64ab-4957-8d24-affa0af5c39e",
      "metadata": {
        "id": "d5c26851-64ab-4957-8d24-affa0af5c39e"
      },
      "source": [
        "## Question 2\n",
        "**Ordinal numbers**: Ordinal numbers indicate their position in a list, such as 1st or 2nd. Most ordinal numbers end in *th*, except 1, 2, and 3. Write a program that repeatedly prompts a user for a number and prints out its corresponding ordinal number. Your program must be able to handle any integer, not just numbers between 1 and 10. If the user enters an invalid number, the program should prompt users to enter a valid number. When the user enters `quit`, the program stops. \n",
        "\n",
        "Sample output:\n",
        "\n",
        "```text\n",
        "Enter a number (enter 'quit' to exit):  1\n",
        "The ordinal number of 1 is: 1st\n",
        "Enter a number (enter 'quit' to exit):  2\n",
        "The ordinal number of 2 is: 2nd\n",
        "Enter a number (enter 'quit' to exit):  3\n",
        "The ordinal number of 3 is: 3rd\n",
        "Enter a number (enter 'quit' to exit):  5\n",
        "The ordinal number of 5 is: 5th\n",
        "Enter a number (enter 'quit' to exit):  11\n",
        "The ordinal number of 11 is: 11th\n",
        "Enter a number (enter 'quit' to exit):  12\n",
        "The ordinal number of 12 is: 12th\n",
        "Enter a number (enter 'quit' to exit):  13\n",
        "The ordinal number of 13 is: 13th\n",
        "Enter a number (enter 'quit' to exit):  21\n",
        "The ordinal number of 21 is: 21st\n",
        "Enter a number (enter 'quit' to exit):  22\n",
        "The ordinal number of 22 is: 22nd\n",
        "Enter a number (enter 'quit' to exit):  23\n",
        "The ordinal number of 23 is: 23rd\n",
        "Enter a number (enter 'quit' to exit):  99\n",
        "The ordinal number of 99 is: 99th\n",
        "Enter a number (enter 'quit' to exit):  101\n",
        "The ordinal number of 101 is: 101st\n",
        "Enter a number (enter 'quit' to exit):  hello\n",
        "hello is an invalid number. Please enter an integer number!\n",
        "Enter a number (enter 'quit' to exit):  haha\n",
        "haha is an invalid number. Please enter an integer number!\n",
        "Enter a number (enter 'quit' to exit):  quit\n",
        "```"
      ]
    },
    {
      "cell_type": "code",
      "execution_count": 3,
      "id": "054c7bf4-e64c-4a5b-84d1-530d0e4ce0f5",
      "metadata": {
        "id": "054c7bf4-e64c-4a5b-84d1-530d0e4ce0f5",
        "colab": {
          "base_uri": "https://localhost:8080/"
        },
        "outputId": "7fa58ba3-3ca5-4a24-a70b-b5e43ecf7e6c"
      },
      "outputs": [
        {
          "output_type": "stream",
          "name": "stdout",
          "text": [
            "Enter a number (enter 'quit' to exit)1\n",
            "1st\n",
            "Enter a number (enter 'quit' to exit)3\n",
            "3rd\n",
            "Enter a number (enter 'quit' to exit)5\n",
            "5th\n",
            "Enter a number (enter 'quit' to exit)ag\n",
            "sorry, please enter a number\n",
            "agth\n",
            "Enter a number (enter 'quit' to exit)quit\n",
            "sorry, please enter a number\n"
          ]
        }
      ],
      "source": [
        "while True:\n",
        "    try:\n",
        "     x = input(\"Enter a number (enter 'quit' to exit)\")\n",
        "     x = int(x)\n",
        "\n",
        "    except ValueError:\n",
        "     print('sorry, please enter a number')\n",
        "    \n",
        "    if x == 'quit':\n",
        "      break\n",
        "    if x == 1:\n",
        "      ordinal = f\"{x}st\"\n",
        "      print(ordinal)\n",
        "    elif x == 2:\n",
        "      ordinal = f\"{x}nd\"\n",
        "      print(ordinal)\n",
        "    elif x == 3:\n",
        "      ordinal = f\"{x}rd\"\n",
        "      print(ordinal)\n",
        "    else:\n",
        "      ordinal = f\"{x}th\"\n",
        "      print(ordinal)\n"
      ]
    },
    {
      "cell_type": "markdown",
      "id": "3e211adf-8d3f-4323-b9ea-35809bb12e66",
      "metadata": {
        "id": "3e211adf-8d3f-4323-b9ea-35809bb12e66"
      },
      "source": [
        "## Question 3\n",
        "**Compute median:** Write a program that repeatedly prompts a user for numbers until the user enters `quit`. Once `quit` is entered, print out the median value of the numbers. If the user enters anything other than a valid number put out an appropriate message and ignore the number.\n",
        "\n",
        "Sample output:\n",
        "```text\n",
        "Enter a number (enter 'quit' to exit):  7\n",
        "Enter a number (enter 'quit' to exit):  8\n",
        "Enter a number (enter 'quit' to exit):  9\n",
        "Enter a number (enter 'quit' to exit):  haha\n",
        "Invalid input. Please enter a valid number.\n",
        "Enter a number (enter 'quit' to exit):  10\n",
        "Enter a number (enter 'quit' to exit):  quit\n",
        "The median value of the numbers [7.0, 8.0, 9.0, 10.0] is 8.5.\n",
        "```"
      ]
    },
    {
      "cell_type": "code",
      "execution_count": 10,
      "id": "f748d68f-4ab9-46ea-a63c-34fc64ed55a2",
      "metadata": {
        "id": "f748d68f-4ab9-46ea-a63c-34fc64ed55a2",
        "colab": {
          "base_uri": "https://localhost:8080/"
        },
        "outputId": "ae4a7124-140b-4ebc-9736-a9200837d8f3"
      },
      "outputs": [
        {
          "output_type": "stream",
          "name": "stdout",
          "text": [
            "Enter a number (enter 'quit' to exit)10\n",
            "10\n",
            "Enter a number (enter 'quit' to exit)20\n",
            "20\n",
            "Enter a number (enter 'quit' to exit)quit\n",
            "sorry, please enter a number\n",
            "The median value of the numbers [10, 20] is 15.0\n"
          ]
        }
      ],
      "source": [
        "def median(lst):\n",
        "    n = len(lst)\n",
        "    s = sorted(lst)\n",
        "    return (s[n//2-1]/2.0+s[n//2]/2.0, s[n//2])[n % 2] if n else None\n",
        "\n",
        "list = []\n",
        "while True:\n",
        "    try:\n",
        "     x = input(\"Enter a number (enter 'quit' to exit)\")\n",
        "     x = int(x)\n",
        "     \n",
        "    except ValueError:\n",
        "     print('sorry, please enter a number')\n",
        "    \n",
        "    if x == 'quit':\n",
        "      print(f'The median value of the numbers {list} is {median(list)}')\n",
        "      break\n",
        "    else:\n",
        "      print(x)\n",
        "      list.append(x)"
      ]
    },
    {
      "cell_type": "markdown",
      "id": "e20f5fbb-f164-44b2-808a-fd815f0b8ed8",
      "metadata": {
        "id": "e20f5fbb-f164-44b2-808a-fd815f0b8ed8"
      },
      "source": [
        "## Question 4\n",
        "**Count Words:** Based on the text file [A-Tale-of-Two-Cities.txt](https://raw.githubusercontent.com/giswqs/geosdemo/master/docs/python/data/A-Tale-of-Two-Cities.txt), write a program that repeatly prompts a user to enter a word or phrase and finds out how many times it appears in the text file. When a user enters `quit`, the program stops. \n",
        "\n",
        "Sample output:\n",
        "```text\n",
        "Enter a word or phrase to search for (enter 'quit' to exit):  the\n",
        "'the' appears 10694 times in the file.\n",
        "Enter a word or phrase to search for (enter 'quit' to exit):  season\n",
        "'season' appears 8 times in the file.\n",
        "Enter a word or phrase to search for (enter 'quit' to exit):  country\n",
        "'country' appears 42 times in the file.\n",
        "Enter a word or phrase to search for (enter 'quit' to exit):  hello\n",
        "'hello' appears 0 times in the file.\n",
        "Enter a word or phrase to search for (enter 'quit' to exit):  love\n",
        "'love' appears 77 times in the file.\n",
        "Enter a word or phrase to search for (enter 'quit' to exit):  quit\n",
        "```"
      ]
    },
    {
      "cell_type": "code",
      "execution_count": null,
      "id": "22a29906",
      "metadata": {
        "id": "22a29906"
      },
      "outputs": [],
      "source": [
        "from os import name\n",
        "def count_words(filename, word):\n",
        "    try:\n",
        "        with open(filename,encoding='utf-8') as txt:\n",
        "            contents = txt.read()\n",
        "    except FileNotFoundError:\n",
        "        pass\n",
        "    else:\n",
        "        word_count = contents.lower().count(word)\n",
        "        print(f\"'{word}' appears {word_count} times\")\n",
        "\n",
        "filenames = ['Odyssey.txt','RomeJuliet.txt','SherlockHolmes.txt']\n",
        "for filename in filenames:\n",
        "    count_words(filename, 'the')\n",
        "\n",
        "filename = 'A-Tale-of-Two-Cities.txt'\n",
        "\n",
        "while True:\n",
        "  try:\n",
        "    words = input(\"Enter a word or phrase to search for (enter 'quit' to exit):\")\n",
        "    words = str(words)\n",
        "  \n",
        "  if words = 'quit':\n",
        "    break\n",
        "\n",
        "  else:\n",
        "    count_words(filename, words)\n",
        "    "
      ]
    },
    {
      "cell_type": "code",
      "execution_count": null,
      "id": "9df4cbfd",
      "metadata": {
        "id": "9df4cbfd"
      },
      "outputs": [],
      "source": []
    },
    {
      "cell_type": "code",
      "execution_count": null,
      "id": "5ea38f4f-6bdb-4d3a-af10-8600088167f2",
      "metadata": {
        "id": "5ea38f4f-6bdb-4d3a-af10-8600088167f2"
      },
      "outputs": [],
      "source": []
    },
    {
      "cell_type": "markdown",
      "id": "7c064842",
      "metadata": {
        "id": "7c064842"
      },
      "source": [
        "## Question 5\n",
        "\n",
        "Write a program that counts the number of unique words in a text file. The program should repeatedly prompt a user to enter a file name and print out the number of unique words in the file. When a user enters `quit`, the program stops. If the input file does not exist, the program should print out an error message and prompt users to enter a valid filename.\n",
        "\n",
        "Some sample text files are available at:\n",
        "- [A-Tale-of-Two-Cities.txt](https://raw.githubusercontent.com/giswqs/geosdemo/master/docs/python/data/A-Tale-of-Two-Cities.txt)\n",
        "- [little_women.txt](https://raw.githubusercontent.com/giswqs/geosdemo/master/docs/python/data/little_women.txt)\n",
        "- [alice.txt](https://raw.githubusercontent.com/giswqs/geosdemo/master/docs/python/data/alice.txt)\n",
        "\n",
        "Sample output:\n",
        "```text\n",
        "Enter the filename:  A-Tale-of-Two-Cities.txt\n",
        "There are 19666 unique words in the file A-Tale-of-Two-Cities.txt\n",
        "Enter the filename:  little_women.txt\n",
        "There are 21050 unique words in the file little_women.txt\n",
        "Enter the filename:  alice.txt\n",
        "There are 6018 unique words in the file alice.txt\n",
        "Enter the filename:  hello_world.txt\n",
        "File 'hello_world.txt' not found. Please enter a valid filename.\n",
        "Enter the filename:  serious.txt\n",
        "File 'serious.txt' not found. Please enter a valid filename.\n",
        "Enter the filename:  I am done\n",
        "File 'I am done' not found. Please enter a valid filename.\n",
        "Enter the filename:  quit\n",
        "```"
      ]
    },
    {
      "cell_type": "code",
      "execution_count": null,
      "id": "a664f044",
      "metadata": {
        "id": "a664f044"
      },
      "outputs": [],
      "source": [
        "def count_words(filename, word):\n",
        "    try:\n",
        "        with open(filename,encoding='utf-8') as txt:\n",
        "            contents = txt.read()\n",
        "    except FileNotFoundError:\n",
        "        pass\n",
        "    else:\n",
        "        word_count = contents.lower().count(word)\n",
        "        print(f\"'{word}' appears {word_count} times\")\n",
        "\n",
        "filenames = ['Odyssey.txt','RomeJuliet.txt','SherlockHolmes.txt']\n",
        "for filename in filenames:\n",
        "    count_words(filename, 'the')\n",
        "\n",
        "\n",
        "\n",
        "while True:\n",
        "  try:\n",
        "    filename = input('book name:')\n",
        "    words = input(\"Enter a word or phrase to search for (enter 'quit' to exit):\")\n",
        "  \n",
        "  if words = 'quit':\n",
        "    break\n",
        "\n",
        "  else:\n",
        "    count_words(filename, words)"
      ]
    },
    {
      "cell_type": "code",
      "execution_count": null,
      "id": "89639284",
      "metadata": {
        "id": "89639284"
      },
      "outputs": [],
      "source": []
    }
  ],
  "metadata": {
    "kernelspec": {
      "display_name": "Python 3 (ipykernel)",
      "language": "python",
      "name": "python3"
    },
    "language_info": {
      "codemirror_mode": {
        "name": "ipython",
        "version": 3
      },
      "file_extension": ".py",
      "mimetype": "text/x-python",
      "name": "python",
      "nbconvert_exporter": "python",
      "pygments_lexer": "ipython3",
      "version": "3.10.8"
    },
    "colab": {
      "provenance": [],
      "include_colab_link": true
    }
  },
  "nbformat": 4,
  "nbformat_minor": 5
}